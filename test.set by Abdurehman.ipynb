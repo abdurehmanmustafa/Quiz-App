{
 "cells": [
  {
   "cell_type": "code",
   "execution_count": 3,
   "metadata": {},
   "outputs": [
    {
     "name": "stdout",
     "output_type": "stream",
     "text": [
      "{'book', 'green', 'yellow', 'car', 'blue'}\n",
      "{'ferrari', 'Lamborghini', 'gtx', 'audi', 'tesla'}\n",
      "{'rehman', 'hamna', 'hassan', 'khizer', 'unais'}\n"
     ]
    }
   ],
   "source": [
    "#how to make set\n",
    "a = set ([\"yellow\",\"car\",\"book\",\"green\",\"blue\",])\n",
    "print(a)\n",
    "b = set ([\"ferrari\",\"Lamborghini\",\"gtx\",\"audi\",\"tesla\",])\n",
    "print(b)\n",
    "c = set ([\"unais\",\"hassan\",\"hamna\",\"khizer\",\"rehman\",])\n",
    "print(c)\n"
   ]
  },
  {
   "cell_type": "code",
   "execution_count": 6,
   "metadata": {},
   "outputs": [
    {
     "name": "stdout",
     "output_type": "stream",
     "text": [
      "{'car', 'book', 'yellow'}\n",
      "{'car', 'ferrari', 'Lamborghini'}\n"
     ]
    }
   ],
   "source": [
    "a = set ([\"yellow\",\"car\",\"book\",])\n",
    "b = set ([\"ferrari\",\"Lamborghini\",\"car\",])\n",
    "\n",
    "print(a.intersection())\n",
    "print(b.intersection())"
   ]
  },
  {
   "cell_type": "code",
   "execution_count": 7,
   "metadata": {},
   "outputs": [
    {
     "name": "stdout",
     "output_type": "stream",
     "text": [
      "{'book', 'green', 'yellow', 'car', 'blue'}\n",
      "{'ferrari', 'Lamborghini', 'gtx', 'audi', 'tesla'}\n"
     ]
    }
   ],
   "source": [
    "a = set([\"yellow\",\"car\",\"book\",\"green\",\"blue\"])\n",
    "b = set([\"ferrari\",\"Lamborghini\",\"gtx\",\"audi\",\"tesla\"])\n",
    "print(a.difference(b))\n",
    "print(b.difference(a))"
   ]
  },
  {
   "cell_type": "code",
   "execution_count": 8,
   "metadata": {},
   "outputs": [
    {
     "name": "stdout",
     "output_type": "stream",
     "text": [
      "{'book', 'ferrari', 'tesla', 'green', 'yellow', 'Lamborghini', 'car', 'blue', 'gtx', 'audi'}\n",
      "{'book', 'ferrari', 'tesla', 'green', 'yellow', 'Lamborghini', 'car', 'blue', 'gtx', 'audi'}\n"
     ]
    }
   ],
   "source": [
    "a = set([\"yellow\",\"car\",\"book\",\"green\",\"blue\"])\n",
    "b = set([\"ferrari\",\"Lamborghini\",\"gtx\",\"audi\",\"tesla\",])\n",
    "\n",
    "print(a.symmetric_difference(b))\n",
    "print(b.symmetric_difference(a))"
   ]
  },
  {
   "cell_type": "code",
   "execution_count": 14,
   "metadata": {},
   "outputs": [
    {
     "name": "stdout",
     "output_type": "stream",
     "text": [
      "{'rehman', 'hamna', 'areej', 'hassan', 'khizer', 'unais', 'warda'}\n"
     ]
    }
   ],
   "source": [
    "a = set([\"unais\",\"hassan\",\"hamna\",\"khizer\",\"rehman\"])\n",
    "b = set([\"hassan\",\"hamna\",\"areej\",\"warda\",\"rehman\",])\n",
    "\n",
    "print(a.union(b))"
   ]
  },
  {
   "cell_type": "code",
   "execution_count": 17,
   "metadata": {},
   "outputs": [
    {
     "name": "stdout",
     "output_type": "stream",
     "text": [
      "{'unais', 'hassan', 'hamna'}\n",
      "{'hamna', 'rehman', 'khizer', 'unais', 'hassan'}\n",
      "5\n",
      "{'rehman', 'khizer', 'hassan'}\n"
     ]
    }
   ],
   "source": [
    "a = set([\"unais\",\"hassan\",\"hamna\",])\n",
    "b = set([\"khizer\",\"rehman\"])\n",
    "print(a)\n",
    "a.update(b)\n",
    "print(a)\n",
    "print(len(\"ahmad\"))\n",
    "a.remove(\"unais\")\n",
    "a.pop()\n",
    "print(a)"
   ]
  },
  {
   "cell_type": "code",
   "execution_count": null,
   "metadata": {},
   "outputs": [],
   "source": []
  }
 ],
 "metadata": {
  "kernelspec": {
   "display_name": "Python 3",
   "language": "python",
   "name": "python3"
  },
  "language_info": {
   "codemirror_mode": {
    "name": "ipython",
    "version": 3
   },
   "file_extension": ".py",
   "mimetype": "text/x-python",
   "name": "python",
   "nbconvert_exporter": "python",
   "pygments_lexer": "ipython3",
   "version": "3.8.3"
  }
 },
 "nbformat": 4,
 "nbformat_minor": 4
}
